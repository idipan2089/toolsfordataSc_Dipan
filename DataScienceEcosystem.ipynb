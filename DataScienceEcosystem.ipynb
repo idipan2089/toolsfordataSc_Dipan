{
 "cells": [
  {
   "cell_type": "markdown",
   "id": "803118da-b709-477d-889e-b6a09d92b047",
   "metadata": {},
   "source": [
    "# Data Science Tools and Ecosystem"
   ]
  },
  {
   "cell_type": "markdown",
   "id": "5e5202e0-20f8-4cb9-bfbc-508c5ae80696",
   "metadata": {},
   "source": [
    "In this notebook, Data Science Tools and Ecosystem are summarized."
   ]
  },
  {
   "cell_type": "markdown",
   "id": "d1b57e29-340d-4710-9c9c-54e0708a7c68",
   "metadata": {},
   "source": [
    "__Objectives:__\n",
    "* List popular languages for Data Science\n",
    "* List popular libraries for Data Science\n",
    "* List of well-known Data Science tools\n",
    "* How to provide comments in a cell"
   ]
  },
  {
   "cell_type": "markdown",
   "id": "f3de2b6b-eb34-4f79-a1d8-d62a6d94c1c3",
   "metadata": {},
   "source": [
    "Some of the popular languages that Data Scientists use are:\n",
    "1. Python\n",
    "2. R\n",
    "3. SQL\n",
    "4. C++\n",
    "5. Java etc..;"
   ]
  },
  {
   "cell_type": "markdown",
   "id": "aa92f930-43c7-4f79-b481-d6367ef3ac48",
   "metadata": {},
   "source": [
    "Some of the commonly used libraries used by Data Scientists include:\n",
    "1. TensorFlow\n",
    "2. NumPy\n",
    "3. SciPy\n",
    "4. Pandas\n",
    "5. Matplotlib\n",
    "6. SciKit-Learn\n",
    "7. Keras\n",
    "8. PyTorch, etc..;"
   ]
  },
  {
   "cell_type": "markdown",
   "id": "c0b7e245-f408-454b-86d5-6b7641bb3112",
   "metadata": {},
   "source": [
    "|Data Science Tools|\n",
    "| --- |\n",
    "| SAS |\n",
    "| Apache Hadoop |\n",
    "| TensorFlow |\n",
    "     "
   ]
  },
  {
   "cell_type": "markdown",
   "id": "6122ccd9-20af-4268-9f95-f9884080e865",
   "metadata": {},
   "source": [
    "### Below are a few examples of evaluating arithmetic expressions in Python\n"
   ]
  },
  {
   "cell_type": "code",
   "execution_count": 2,
   "id": "29af986e-c2e3-4f6a-a5ed-4f5c7166c06f",
   "metadata": {
    "tags": []
   },
   "outputs": [
    {
     "data": {
      "text/plain": [
       "17"
      ]
     },
     "execution_count": 2,
     "metadata": {},
     "output_type": "execute_result"
    }
   ],
   "source": [
    "#This a simple arithmetic expression to mutiply then add integers\n",
    "(3*4)+5"
   ]
  },
  {
   "cell_type": "code",
   "execution_count": 3,
   "id": "2da5c7b2-6e7f-42fb-aa88-220ae91a1906",
   "metadata": {
    "tags": []
   },
   "outputs": [
    {
     "data": {
      "text/plain": [
       "3.3333333333333335"
      ]
     },
     "execution_count": 3,
     "metadata": {},
     "output_type": "execute_result"
    }
   ],
   "source": [
    "#This will convert 200 minutes to hours by diving by 60\n",
    "200/60"
   ]
  },
  {
   "cell_type": "markdown",
   "id": "1c07b969-644e-4139-af31-d029dd3a30e0",
   "metadata": {},
   "source": [
    "## Author\n",
    "Dipan Bandyopadhyay"
   ]
  },
  {
   "cell_type": "code",
   "execution_count": null,
   "id": "c8bdbfeb-6a11-4411-b4d9-d52ca5335f92",
   "metadata": {},
   "outputs": [],
   "source": []
  }
 ],
 "metadata": {
  "kernelspec": {
   "display_name": "Python",
   "language": "python",
   "name": "conda-env-python-py"
  },
  "language_info": {
   "codemirror_mode": {
    "name": "ipython",
    "version": 3
   },
   "file_extension": ".py",
   "mimetype": "text/x-python",
   "name": "python",
   "nbconvert_exporter": "python",
   "pygments_lexer": "ipython3",
   "version": "3.7.12"
  }
 },
 "nbformat": 4,
 "nbformat_minor": 5
}
